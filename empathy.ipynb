{
  "nbformat": 4,
  "nbformat_minor": 0,
  "metadata": {
    "colab": {
      "provenance": [],
      "mount_file_id": "1SAYgR-pwdjrBPjhKc1V2tjQCawb_jt0G",
      "authorship_tag": "ABX9TyO7gprITwx/BLr/Iq3pkCrC",
      "include_colab_link": true
    },
    "kernelspec": {
      "name": "python3",
      "display_name": "Python 3"
    },
    "language_info": {
      "name": "python"
    }
  },
  "cells": [
    {
      "cell_type": "markdown",
      "metadata": {
        "id": "view-in-github",
        "colab_type": "text"
      },
      "source": [
        "<a href=\"https://colab.research.google.com/github/kastalaa/NLPCW1/blob/main/empathy.ipynb\" target=\"_parent\"><img src=\"https://colab.research.google.com/assets/colab-badge.svg\" alt=\"Open In Colab\"/></a>"
      ]
    },
    {
      "cell_type": "code",
      "execution_count": 54,
      "metadata": {
        "id": "Np8SQ5T5r3-5"
      },
      "outputs": [],
      "source": [
        "import pandas as pd"
      ]
    },
    {
      "cell_type": "code",
      "source": [
        "Data2=pd.read_csv(\"/content/drive/MyDrive/WASSA23_essay_level_with_labels_train (3).tsv\",sep='\\t')"
      ],
      "metadata": {
        "id": "WL8lpm_56ukM"
      },
      "execution_count": 55,
      "outputs": []
    },
    {
      "cell_type": "code",
      "source": [
        "Data2=pd.DataFrame(Data2)"
      ],
      "metadata": {
        "id": "51nDoi_s6xl8"
      },
      "execution_count": 56,
      "outputs": []
    },
    {
      "cell_type": "code",
      "source": [
        "ND=pd.DataFrame(Data2)"
      ],
      "metadata": {
        "collapsed": true,
        "id": "jB3mELbisvUt"
      },
      "execution_count": 57,
      "outputs": []
    },
    {
      "cell_type": "code",
      "source": [
        "ND['empathy'].unique()"
      ],
      "metadata": {
        "colab": {
          "base_uri": "https://localhost:8080/"
        },
        "id": "LywzhYMvtYT8",
        "outputId": "d272066e-3206-4600-97df-f886cb7af398",
        "collapsed": true
      },
      "execution_count": 58,
      "outputs": [
        {
          "output_type": "execute_result",
          "data": {
            "text/plain": [
              "array([6.83333333, 5.83333333, 1.        , 6.16666667, 1.66666667,\n",
              "       1.5       , 2.        , 6.        , 7.        , 6.66666667,\n",
              "       3.5       , 1.83333333, 4.        , 3.66666667, 1.16666667,\n",
              "       6.33333333, 4.16666667, 5.66666667, 4.83333333, 4.33333333,\n",
              "       4.5       , 5.33333333, 1.33333333, 3.33333333, 2.33333333,\n",
              "       5.5       , 2.5       , 2.66666667, 3.        , 3.83333333,\n",
              "       6.5       , 5.        , 2.16666667, 5.16666667, 2.83333333,\n",
              "       3.16666667, 4.66666667])"
            ]
          },
          "metadata": {},
          "execution_count": 58
        }
      ]
    },
    {
      "cell_type": "code",
      "source": [
        "ND['personality_conscientiousness'].unique()"
      ],
      "metadata": {
        "colab": {
          "base_uri": "https://localhost:8080/"
        },
        "id": "KkBRn1udt1Au",
        "outputId": "75d70be1-e3b9-490b-eed5-5d98bcedd96a"
      },
      "execution_count": 59,
      "outputs": [
        {
          "output_type": "execute_result",
          "data": {
            "text/plain": [
              "array(['7.0', '5.5', '6.75', '6.0', '3.5', 'unknown', '6.25', '6.5',\n",
              "       '4.25', '2.5', '4.0', '4.5'], dtype=object)"
            ]
          },
          "metadata": {},
          "execution_count": 59
        }
      ]
    },
    {
      "cell_type": "code",
      "source": [
        "ND['personality_openess'].unique()"
      ],
      "metadata": {
        "colab": {
          "base_uri": "https://localhost:8080/"
        },
        "id": "Qxz4EkBov0Vy",
        "outputId": "df3423eb-5767-4171-a7ce-139f9692d422"
      },
      "execution_count": 60,
      "outputs": [
        {
          "output_type": "execute_result",
          "data": {
            "text/plain": [
              "array(['5.5', '5.0', '6.75', '6.0', '2.5', '3.5', '4.5', 'unknown',\n",
              "       '5.75', '7.0', '4.25', '2.0', '6.5', '4.0'], dtype=object)"
            ]
          },
          "metadata": {},
          "execution_count": 60
        }
      ]
    },
    {
      "cell_type": "code",
      "source": [
        "ND['personality_extraversion'].unique()"
      ],
      "metadata": {
        "colab": {
          "base_uri": "https://localhost:8080/"
        },
        "id": "-yNT2LE-v8VJ",
        "outputId": "b87fe80a-284b-44ac-b0bd-3e627c361762"
      },
      "execution_count": 61,
      "outputs": [
        {
          "output_type": "execute_result",
          "data": {
            "text/plain": [
              "array(['1.0', '2.0', '6.75', '5.0', '6.5', '1.5', 'unknown', '3.25',\n",
              "       '2.5', '4.5', '3.0', '3.5', '4.0', '6.0', '7.0', '5.5', '5.75'],\n",
              "      dtype=object)"
            ]
          },
          "metadata": {},
          "execution_count": 61
        }
      ]
    },
    {
      "cell_type": "code",
      "source": [
        "ND['personality_agreeableness'].unique()"
      ],
      "metadata": {
        "colab": {
          "base_uri": "https://localhost:8080/"
        },
        "id": "KVVFg4LiwDWi",
        "outputId": "d92d6331-2a17-4372-931c-299c1bfc7a6d"
      },
      "execution_count": 62,
      "outputs": [
        {
          "output_type": "execute_result",
          "data": {
            "text/plain": [
              "array(['6.5', '5.5', '6.75', '4.5', '7.0', 'unknown', '5.0', '6.0', '3.5',\n",
              "       '4.25', '2.0', '2.5', '4.0'], dtype=object)"
            ]
          },
          "metadata": {},
          "execution_count": 62
        }
      ]
    },
    {
      "cell_type": "code",
      "source": [
        "ND['personality_stability'].unique()"
      ],
      "metadata": {
        "colab": {
          "base_uri": "https://localhost:8080/"
        },
        "id": "yfA8BgSbwL8n",
        "outputId": "6b51acb2-1ce0-4a03-9e64-71dd13ca4c8a"
      },
      "execution_count": 63,
      "outputs": [
        {
          "output_type": "execute_result",
          "data": {
            "text/plain": [
              "array(['6.0', '4.5', '7.0', '3.5', '5.0', '6.5', 'unknown', '4.0', '3.75',\n",
              "       '1.0', '5.5', '1.5', '3.0', '2.0', '2.5'], dtype=object)"
            ]
          },
          "metadata": {},
          "execution_count": 63
        }
      ]
    },
    {
      "cell_type": "code",
      "source": [
        "ND['emotion'].unique()"
      ],
      "metadata": {
        "colab": {
          "base_uri": "https://localhost:8080/"
        },
        "id": "QifKB43OHZBX",
        "outputId": "30487fd7-4b1d-42ef-c0dc-7044173ef794"
      },
      "execution_count": 64,
      "outputs": [
        {
          "output_type": "execute_result",
          "data": {
            "text/plain": [
              "array(['Hope/Sadness', 'Anger', 'Sadness', 'Neutral', 'Disgust/Sadness',\n",
              "       'Anger/Disgust', 'Fear/Sadness', 'Joy', 'Hope', 'Joy/Neutral',\n",
              "       'Disgust', 'Neutral/Sadness', 'Neutral/Surprise', 'Anger/Neutral',\n",
              "       'Hope/Neutral', 'Surprise', 'Anger/Sadness', 'Fear', 'Anger/Joy',\n",
              "       'Disgust/Fear', 'Fear/Neutral', 'Fear/Hope', 'Joy/Sadness',\n",
              "       'Anger/Disgust/Sadness', 'Anger/Surprise', 'Disgust/Neutral',\n",
              "       'Anger/Fear', 'Sadness/Surprise', 'Disgust/Surprise', 'Anger/Hope'],\n",
              "      dtype=object)"
            ]
          },
          "metadata": {},
          "execution_count": 64
        }
      ]
    },
    {
      "cell_type": "code",
      "source": [
        "import numpy as np\n",
        "import matplotlib.pyplot as plt\n",
        "import seaborn as sns\n",
        "from sklearn.model_selection import train_test_split\n",
        "from sklearn.preprocessing import StandardScaler, LabelEncoder\n",
        "from sklearn.linear_model import LogisticRegression\n",
        "from sklearn.ensemble import RandomForestClassifier\n",
        "from sklearn.svm import SVC\n",
        "from sklearn.ensemble import GradientBoostingClassifier\n",
        "from sklearn.neural_network import MLPClassifier\n",
        "from sklearn.metrics import accuracy_score, f1_score, classification_report, confusion_matrix\n",
        "from sklearn.feature_extraction.text import TfidfVectorizer\n",
        "\n"
      ],
      "metadata": {
        "id": "ZchUB0aowOeM"
      },
      "execution_count": 65,
      "outputs": []
    },
    {
      "cell_type": "code",
      "source": [
        "le = LabelEncoder()\n",
        "ND['emotion'] = le.fit_transform(ND['emotion'])\n"
      ],
      "metadata": {
        "id": "qxwwA6zSy31S"
      },
      "execution_count": 66,
      "outputs": []
    },
    {
      "cell_type": "code",
      "source": [
        "# Convert personality columns to float\n",
        "personality_columns = [\n",
        "    'personality_conscientiousness', 'personality_openess',\n",
        "    'personality_extraversion', 'personality_agreeableness',\n",
        "    'personality_stability'\n",
        "]\n",
        "\n",
        "for col in personality_columns:\n",
        "    ND[col] = pd.to_numeric(ND[col], errors='coerce')"
      ],
      "metadata": {
        "id": "o3OyBvLAzDZ5"
      },
      "execution_count": 67,
      "outputs": []
    },
    {
      "cell_type": "code",
      "source": [
        " ND['personality_conscientiousness']=ND['personality_conscientiousness'].replace('-', '', regex=True)"
      ],
      "metadata": {
        "id": "dBWhz--vzDTz"
      },
      "execution_count": 68,
      "outputs": []
    },
    {
      "cell_type": "code",
      "source": [
        "# Feature Scaling\n",
        "scaler = StandardScaler()\n",
        "scaled_features = scaler.fit_transform(ND[personality_columns + ['empathy', 'distress']])\n"
      ],
      "metadata": {
        "id": "D12qwFm43ghG"
      },
      "execution_count": 69,
      "outputs": []
    },
    {
      "cell_type": "code",
      "source": [
        "# Adding scaled features to the DataFrame\n",
        "for i, col in enumerate(personality_columns + ['empathy', 'distress']):\n",
        "    ND[col] = scaled_features[:, i]"
      ],
      "metadata": {
        "id": "ugoXgLUY56nO"
      },
      "execution_count": 70,
      "outputs": []
    },
    {
      "cell_type": "code",
      "source": [
        "# Prepare data for classification\n",
        "# Assuming 'ND' is your DataFrame containing the necessary columns\n",
        "X = ND[['essay', 'empathy', 'distress'] + personality_columns]\n",
        "y = ND['emotion']"
      ],
      "metadata": {
        "id": "xTdbI61I4m6F"
      },
      "execution_count": 71,
      "outputs": []
    },
    {
      "cell_type": "code",
      "source": [
        "# Split the data\n",
        "X_train, X_test, y_train, y_test = train_test_split(X, y, test_size=0.2, random_state=42)\n"
      ],
      "metadata": {
        "id": "lwwdvxjV6Alt"
      },
      "execution_count": 72,
      "outputs": []
    },
    {
      "cell_type": "code",
      "source": [
        "# Convert essays to feature vectors using TF-IDF\n",
        "from sklearn.feature_extraction.text import TfidfVectorizer\n",
        "\n",
        "vectorizer = TfidfVectorizer(max_features=5000)\n",
        "X_train_essay = vectorizer.fit_transform(X_train['essay']).toarray()\n",
        "X_test_essay = vectorizer.transform(X_test['essay']).toarray()\n"
      ],
      "metadata": {
        "id": "_pBe5Xgj6fjT"
      },
      "execution_count": 73,
      "outputs": []
    },
    {
      "cell_type": "code",
      "source": [
        "# Combine TF-IDF vectors with other features\n",
        "X_train_combined = pd.DataFrame(X_train_essay, columns=vectorizer.get_feature_names_out()).reset_index(drop=True)\n",
        "X_train_combined = pd.concat([X_train_combined, X_train.drop(columns='essay').reset_index(drop=True)], axis=1)\n",
        "\n",
        "X_test_combined = pd.DataFrame(X_test_essay, columns=vectorizer.get_feature_names_out()).reset_index(drop=True)\n",
        "X_test_combined = pd.concat([X_test_combined, X_test.drop(columns='essay').reset_index(drop=True)], axis=1)"
      ],
      "metadata": {
        "id": "Rr7RFKUj5UC6"
      },
      "execution_count": 74,
      "outputs": []
    },
    {
      "cell_type": "code",
      "source": [
        "X_train_combined.info()"
      ],
      "metadata": {
        "colab": {
          "base_uri": "https://localhost:8080/"
        },
        "id": "3FfdQ165_kJ0",
        "outputId": "e53a5cec-a600-4516-ac93-871719d40665"
      },
      "execution_count": 75,
      "outputs": [
        {
          "output_type": "stream",
          "name": "stdout",
          "text": [
            "<class 'pandas.core.frame.DataFrame'>\n",
            "RangeIndex: 633 entries, 0 to 632\n",
            "Columns: 4643 entries, 000 to personality_stability\n",
            "dtypes: float64(4643)\n",
            "memory usage: 22.4 MB\n"
          ]
        }
      ]
    },
    {
      "cell_type": "code",
      "source": [
        "# Combine TF-IDF vectors with other features, handling potential missing values\n",
        "X_train_combined = pd.DataFrame(X_train_essay, columns=vectorizer.get_feature_names_out()).reset_index(drop=True)\n",
        "X_train_combined = pd.concat([X_train_combined, X_train.drop(columns='essay').reset_index(drop=True)], axis=1)\n",
        "X_train_combined = X_train_combined.fillna(0) # Fill missing values with 0\n",
        "\n",
        "X_test_combined = pd.DataFrame(X_test_essay, columns=vectorizer.get_feature_names_out()).reset_index(drop=True)\n",
        "X_test_combined = pd.concat([X_test_combined, X_test.drop(columns='essay').reset_index(drop=True)], axis=1)\n",
        "X_test_combined = X_test_combined.fillna(0) # Fill missing values with 0"
      ],
      "metadata": {
        "id": "-ynowrM_5veq"
      },
      "execution_count": 76,
      "outputs": []
    },
    {
      "cell_type": "code",
      "source": [
        "# Define and train classifiers\n",
        "models = {\n",
        "    'Random Forest': RandomForestClassifier(n_estimators=100, random_state=42),\n",
        "    'SVM': SVC(kernel='linear', random_state=42),\n",
        "    'Logistic Regression': LogisticRegression(max_iter=1000, random_state=42)\n",
        "}\n",
        "\n",
        "results = {}"
      ],
      "metadata": {
        "id": "4zIBqPp050k1"
      },
      "execution_count": 77,
      "outputs": []
    },
    {
      "cell_type": "code",
      "source": [
        "for model_name, model in models.items():\n",
        "    model.fit(X_train_combined, y_train)\n",
        "    y_pred = model.predict(X_test_combined)\n",
        "    accuracy = accuracy_score(y_test, y_pred)\n",
        "    f1 = f1_score(y_test, y_pred, average='weighted')\n",
        "    results[model_name] = {'Accuracy': accuracy, 'F1 Score': f1}\n",
        "    print(f\"{model_name} - Accuracy: {accuracy:.4f}, F1 Score: {f1:.4f}\")"
      ],
      "metadata": {
        "colab": {
          "base_uri": "https://localhost:8080/"
        },
        "id": "TYLSweS054ul",
        "outputId": "08d5e84b-bba6-43e5-f4af-df734e2796b9"
      },
      "execution_count": 78,
      "outputs": [
        {
          "output_type": "stream",
          "name": "stdout",
          "text": [
            "Random Forest - Accuracy: 0.4906, F1 Score: 0.3866\n",
            "SVM - Accuracy: 0.4717, F1 Score: 0.3980\n",
            "Logistic Regression - Accuracy: 0.4717, F1 Score: 0.3917\n"
          ]
        }
      ]
    },
    {
      "cell_type": "code",
      "source": [
        "# Combine TF-IDF vectors with other features\n",
        "X_train_combined = np.hstack((X_train_essay, X_train.drop(columns='essay').values))\n",
        "X_test_combined = np.hstack((X_test_essay, X_test.drop(columns='essay').values))\n"
      ],
      "metadata": {
        "id": "6JUa0yPA7rmB"
      },
      "execution_count": 80,
      "outputs": []
    },
    {
      "cell_type": "code",
      "source": [
        "# Define and train classifiers\n",
        "models = {\n",
        "    'Random Forest': RandomForestClassifier(n_estimators=100, random_state=42),\n",
        "    'SVM': SVC(kernel='linear', random_state=42),\n",
        "    'Logistic Regression': LogisticRegression(max_iter=1000, random_state=42)\n",
        "}\n"
      ],
      "metadata": {
        "id": "RMpA2g-l5bRQ"
      },
      "execution_count": 81,
      "outputs": []
    },
    {
      "cell_type": "code",
      "source": [
        "X_train_combined = np.nan_to_num(X_train_combined)\n",
        "X_test_combined = np.nan_to_num(X_test_combined)"
      ],
      "metadata": {
        "id": "byNYZ1gc9o15"
      },
      "execution_count": 82,
      "outputs": []
    },
    {
      "cell_type": "code",
      "source": [
        "# Define classifiers\n",
        "classifiers = {\n",
        "    'Logistic Regression': LogisticRegression(max_iter=1000),\n",
        "    'SVM': SVC(),\n",
        "    'Random Forest': RandomForestClassifier(n_estimators=100)\n",
        "}\n"
      ],
      "metadata": {
        "id": "LuOzA-sI7uqe"
      },
      "execution_count": 83,
      "outputs": []
    },
    {
      "cell_type": "code",
      "source": [
        "# Initialize classifiers\n",
        "classifiers = {\n",
        "    'Support Vector Machine': SVC(kernel='linear'),\n",
        "    'Random Forest': RandomForestClassifier(n_estimators=100, random_state=42),\n",
        "    'Logistic Regression': LogisticRegression(max_iter=1000)\n",
        "}"
      ],
      "metadata": {
        "id": "PQGdn6BW1yax"
      },
      "execution_count": 84,
      "outputs": []
    },
    {
      "cell_type": "code",
      "source": [
        " X=X.dropna()"
      ],
      "metadata": {
        "id": "x2Izcg3B8QlS"
      },
      "execution_count": 85,
      "outputs": []
    },
    {
      "cell_type": "code",
      "source": [
        "import pandas as pd\n",
        "import matplotlib.pyplot as plt\n",
        "# Train and evaluate classifiers\n",
        "results = {}\n",
        "for name, classifier in classifiers.items():\n",
        "    classifier.fit(X_train_combined, y_train)\n",
        "    y_pred = classifier.predict(X_test_combined)\n",
        "    accuracy = accuracy_score(y_test, y_pred)\n",
        "    f1 = f1_score(y_test, y_pred, average='weighted')\n",
        "    results[name] = {'Accuracy': accuracy, 'F1 Score': f1}\n",
        "\n",
        "# Create a DataFrame with results\n",
        "df_results = pd.DataFrame(results).transpose()\n",
        "\n",
        "# Display the results table\n",
        "print(df_results.to_string())\n",
        "\n",
        "# Plot the results as a bar chart\n",
        "df_results.plot(kind='bar')\n",
        "plt.xlabel('Classifier')\n",
        "plt.ylabel('Score')\n",
        "plt.title('Classifier Performance')\n",
        "plt.show()"
      ],
      "metadata": {
        "colab": {
          "base_uri": "https://localhost:8080/",
          "height": 693
        },
        "id": "uc9Vb_tAChVs",
        "outputId": "9438e611-831c-4dba-c7b7-30b3d100fae8"
      },
      "execution_count": 86,
      "outputs": [
        {
          "output_type": "stream",
          "name": "stdout",
          "text": [
            "                        Accuracy  F1 Score\n",
            "Support Vector Machine  0.471698  0.398041\n",
            "Random Forest           0.490566  0.386610\n",
            "Logistic Regression     0.471698  0.391736\n"
          ]
        },
        {
          "output_type": "display_data",
          "data": {
            "text/plain": [
              "<Figure size 640x480 with 1 Axes>"
            ],
            "image/png": "[encoded data removed]"
          },
          "metadata": {}
        }
      ]
    },
    {
      "cell_type": "code",
      "source": [
        "results"
      ],
      "metadata": {
        "colab": {
          "base_uri": "https://localhost:8080/"
        },
        "id": "WokQB44473IO",
        "outputId": "fd0773ab-e72a-4138-942f-2379fe3c95ca"
      },
      "execution_count": 87,
      "outputs": [
        {
          "output_type": "execute_result",
          "data": {
            "text/plain": [
              "{'Support Vector Machine': {'Accuracy': 0.4716981132075472,\n",
              "  'F1 Score': 0.39804119583149067},\n",
              " 'Random Forest': {'Accuracy': 0.49056603773584906,\n",
              "  'F1 Score': 0.3866103300065564},\n",
              " 'Logistic Regression': {'Accuracy': 0.4716981132075472,\n",
              "  'F1 Score': 0.3917356352099426}}"
            ]
          },
          "metadata": {},
          "execution_count": 87
        }
      ]
    },
    {
      "cell_type": "code",
      "source": [
        "from sklearn.model_selection import GridSearchCV\n",
        "\n",
        "# Define the parameter grid\n",
        "param_grid = {\n",
        "    'C': [0.1, 1, 10],\n",
        "    'gamma': [0.1, 0.01, 0.001],\n",
        "    'kernel': ['linear', 'poly', 'rbf', 'sigmoid']\n",
        "}\n",
        "\n",
        "# Initialize the grid search\n",
        "grid_search = GridSearchCV(SVC(), param_grid, cv=5)\n",
        "\n",
        "# Fit the grid search to the data\n",
        "grid_search.fit(X_train_combined, y_train)\n",
        "\n",
        "# Print the best parameters and score\n",
        "print(\"Best parameters:\", grid_search.best_params_)\n",
        "print(\"Best score:\", grid_search.best_score_)\n"
      ],
      "metadata": {
        "colab": {
          "base_uri": "https://localhost:8080/"
        },
        "id": "RJZYGyH7JktF",
        "outputId": "eb57e5ea-b368-4264-af43-21a5042e72e6"
      },
      "execution_count": 88,
      "outputs": [
        {
          "output_type": "stream",
          "name": "stderr",
          "text": [
            "/usr/local/lib/python3.10/dist-packages/sklearn/model_selection/_split.py:700: UserWarning: The least populated class in y has only 1 members, which is less than n_splits=5.\n",
            "  warnings.warn(\n"
          ]
        },
        {
          "output_type": "stream",
          "name": "stdout",
          "text": [
            "Best parameters: {'C': 10, 'gamma': 0.1, 'kernel': 'linear'}\n",
            "Best score: 0.4928633920759905\n"
          ]
        }
      ]
    },
    {
      "cell_type": "code",
      "source": [
        "from sklearn.model_selection import GridSearchCV\n",
        "\n",
        "# Define the parameter grid\n",
        "param_grid = {\n",
        "    'n_estimators': [100, 200, 300],\n",
        "    'max_depth': [None, 5, 10],\n",
        "    'min_samples_split': [2, 5, 10],\n",
        "    'min_samples_leaf': [1, 2, 4]\n",
        "}\n",
        "\n",
        "# Initialize the grid search\n",
        "grid_search = GridSearchCV(RandomForestClassifier(), param_grid, cv=5)\n",
        "\n",
        "# Fit the grid search to the data\n",
        "grid_search.fit(X_train_combined, y_train)\n",
        "\n",
        "\n",
        "# Print the best parameters and score\n",
        "print(\"Best parameters:\", grid_search.best_params_)\n",
        "print(\"Best score:\", grid_search.best_score_)\n"
      ],
      "metadata": {
        "colab": {
          "base_uri": "https://localhost:8080/"
        },
        "id": "meWfl0E2Jsvi",
        "outputId": "bec258e0-3e77-4db7-8f22-5ae9cd87edd5"
      },
      "execution_count": 89,
      "outputs": [
        {
          "output_type": "stream",
          "name": "stderr",
          "text": [
            "/usr/local/lib/python3.10/dist-packages/sklearn/model_selection/_split.py:700: UserWarning: The least populated class in y has only 1 members, which is less than n_splits=5.\n",
            "  warnings.warn(\n"
          ]
        },
        {
          "output_type": "stream",
          "name": "stdout",
          "text": [
            "Best parameters: {'max_depth': None, 'min_samples_leaf': 2, 'min_samples_split': 5, 'n_estimators': 100}\n",
            "Best score: 0.5071366079240095\n"
          ]
        }
      ]
    },
    {
      "cell_type": "code",
      "source": [
        "from sklearn.model_selection import GridSearchCV\n",
        "from sklearn.linear_model import LogisticRegression\n",
        "from sklearn.datasets import make_classification\n",
        "from sklearn.model_selection import train_test_split\n",
        "\n",
        "# Create a sample dataset (replace this with your own data)\n",
        "X, y = make_classification(n_samples=1000, n_features=20, n_classes=2, random_state=42)\n",
        "X_train, X_test, y_train, y_test = train_test_split(X, y, test_size=0.2, random_state=42)\n",
        "\n",
        "# Define the parameter grid\n",
        "param_grid = {\n",
        "    'C': [0.001, 0.01, 0.1, 1, 10, 100],\n",
        "    'penalty': ['l1', 'l2'],\n",
        "    'solver': ['liblinear', 'saga']\n",
        "}\n",
        "\n",
        "# Create a logistic regression model\n",
        "log_reg = LogisticRegression(random_state=42)\n",
        "\n",
        "# Set up GridSearchCV\n",
        "grid_search = GridSearchCV(estimator=log_reg, param_grid=param_grid,\n",
        "                           cv=5, n_jobs=-1, verbose=1, scoring='accuracy')\n",
        "\n",
        "# Fit the grid search to the data\n",
        "grid_search.fit(X_train, y_train)\n",
        "\n",
        "# Print the best parameters and score\n",
        "print(\"Best parameters:\", grid_search.best_params_)\n",
        "\n",
        "\n",
        "# Print detailed results\n",
        "print(\"\\nDetailed results:\")\n",
        "for mean_score, params in zip(grid_search.cv_results_['mean_test_score'],\n",
        "                              grid_search.cv_results_['params']):\n",
        "    print(f\"Mean score: {mean_score:.3f} for {params}\")\n",
        "\n",
        "# Evaluate on the test set\n",
        "best_model = grid_search.best_estimator_\n",
        "test_score = best_model.score(X_test, y_test)\n",
        "print(f\"\\n Best score: {test_score:.3f}\")\n"
      ],
      "metadata": {
        "colab": {
          "base_uri": "https://localhost:8080/"
        },
        "id": "7R-KiPd4D6eF",
        "outputId": "24e007d1-ba0b-4f3d-bff9-b0f871fc55f9"
      },
      "execution_count": 52,
      "outputs": [
        {
          "output_type": "stream",
          "name": "stdout",
          "text": [
            "Fitting 5 folds for each of 24 candidates, totalling 120 fits\n",
            "Best parameters: {'C': 0.1, 'penalty': 'l1', 'solver': 'liblinear'}\n",
            "\n",
            "Detailed results:\n",
            "Mean score: 0.509 for {'C': 0.001, 'penalty': 'l1', 'solver': 'liblinear'}\n",
            "Mean score: 0.509 for {'C': 0.001, 'penalty': 'l1', 'solver': 'saga'}\n",
            "Mean score: 0.865 for {'C': 0.001, 'penalty': 'l2', 'solver': 'liblinear'}\n",
            "Mean score: 0.864 for {'C': 0.001, 'penalty': 'l2', 'solver': 'saga'}\n",
            "Mean score: 0.865 for {'C': 0.01, 'penalty': 'l1', 'solver': 'liblinear'}\n",
            "Mean score: 0.866 for {'C': 0.01, 'penalty': 'l1', 'solver': 'saga'}\n",
            "Mean score: 0.866 for {'C': 0.01, 'penalty': 'l2', 'solver': 'liblinear'}\n",
            "Mean score: 0.868 for {'C': 0.01, 'penalty': 'l2', 'solver': 'saga'}\n",
            "Mean score: 0.875 for {'C': 0.1, 'penalty': 'l1', 'solver': 'liblinear'}\n",
            "Mean score: 0.874 for {'C': 0.1, 'penalty': 'l1', 'solver': 'saga'}\n",
            "Mean score: 0.869 for {'C': 0.1, 'penalty': 'l2', 'solver': 'liblinear'}\n",
            "Mean score: 0.869 for {'C': 0.1, 'penalty': 'l2', 'solver': 'saga'}\n",
            "Mean score: 0.868 for {'C': 1, 'penalty': 'l1', 'solver': 'liblinear'}\n",
            "Mean score: 0.868 for {'C': 1, 'penalty': 'l1', 'solver': 'saga'}\n",
            "Mean score: 0.867 for {'C': 1, 'penalty': 'l2', 'solver': 'liblinear'}\n",
            "Mean score: 0.867 for {'C': 1, 'penalty': 'l2', 'solver': 'saga'}\n",
            "Mean score: 0.867 for {'C': 10, 'penalty': 'l1', 'solver': 'liblinear'}\n",
            "Mean score: 0.867 for {'C': 10, 'penalty': 'l1', 'solver': 'saga'}\n",
            "Mean score: 0.867 for {'C': 10, 'penalty': 'l2', 'solver': 'liblinear'}\n",
            "Mean score: 0.867 for {'C': 10, 'penalty': 'l2', 'solver': 'saga'}\n",
            "Mean score: 0.867 for {'C': 100, 'penalty': 'l1', 'solver': 'liblinear'}\n",
            "Mean score: 0.867 for {'C': 100, 'penalty': 'l1', 'solver': 'saga'}\n",
            "Mean score: 0.867 for {'C': 100, 'penalty': 'l2', 'solver': 'liblinear'}\n",
            "Mean score: 0.867 for {'C': 100, 'penalty': 'l2', 'solver': 'saga'}\n",
            "\n",
            " Best score:: 0.870\n"
          ]
        }
      ]
    }
  ]
}